{
 "cells": [
  {
   "cell_type": "code",
   "execution_count": 1,
   "metadata": {},
   "outputs": [
    {
     "data": {
      "text/plain": [
       "'c:\\\\Users\\\\DELL\\\\Documents\\\\summurizer\\\\Text-summurizer-project\\\\research'"
      ]
     },
     "execution_count": 1,
     "metadata": {},
     "output_type": "execute_result"
    }
   ],
   "source": [
    "%pwd"
   ]
  },
  {
   "cell_type": "code",
   "execution_count": 2,
   "metadata": {},
   "outputs": [],
   "source": [
    "import os"
   ]
  },
  {
   "cell_type": "code",
   "execution_count": 3,
   "metadata": {},
   "outputs": [],
   "source": [
    "os.chdir(\"../\")"
   ]
  },
  {
   "cell_type": "code",
   "execution_count": 4,
   "metadata": {},
   "outputs": [
    {
     "data": {
      "text/plain": [
       "'c:\\\\Users\\\\DELL\\\\Documents\\\\summurizer\\\\Text-summurizer-project'"
      ]
     },
     "execution_count": 4,
     "metadata": {},
     "output_type": "execute_result"
    }
   ],
   "source": [
    "%pwd"
   ]
  },
  {
   "cell_type": "code",
   "execution_count": 5,
   "metadata": {},
   "outputs": [],
   "source": [
    "from dataclasses import dataclass\n",
    "from pathlib import Path\n",
    "\n",
    "@dataclass(frozen=True)\n",
    "class DataValidationConfig:\n",
    "    root_dir:Path\n",
    "    STATUS_FILE:str\n",
    "    ALL_REQUIRED_FILES:list\n",
    "\n",
    "\n"
   ]
  },
  {
   "cell_type": "code",
   "execution_count": 6,
   "metadata": {},
   "outputs": [],
   "source": [
    "from textsummurizer.constants import *\n",
    "from textsummurizer.utils.common import read_yaml, create_directories"
   ]
  },
  {
   "cell_type": "code",
   "execution_count": 7,
   "metadata": {},
   "outputs": [],
   "source": [
    "class ConfigurationManager:\n",
    "    def __init__(\n",
    "            self, \n",
    "            config_filepath = CONFIG_FILE_PATH,\n",
    "            params_filepath = PARAMS_FILE_PATH):\n",
    "\n",
    "            self.config = read_yaml(config_filepath)\n",
    "            self.params = read_yaml(params_filepath)\n",
    "\n",
    "            create_directories([self.config.artifacts_root])\n",
    "\n",
    "          \n",
    "    def get_data_validation_config(self) -> DataValidationConfig:\n",
    "          config = self.config.data_validation\n",
    "\n",
    "          create_directories([config.root_dir])\n",
    "\n",
    "          data_validation_config = DataValidationConfig(\n",
    "               root_dir = config.root_dir,\n",
    "               STATUS_FILE=config.STATUS_FILE,\n",
    "               ALL_REQUIRED_FILES=config.ALL_REQUIRED_FILES\n",
    "\n",
    "          )\n",
    "\n",
    "          return data_validation_config"
   ]
  },
  {
   "cell_type": "code",
   "execution_count": null,
   "metadata": {},
   "outputs": [],
   "source": []
  },
  {
   "attachments": {},
   "cell_type": "markdown",
   "metadata": {},
   "source": [
    "Lets write the components now"
   ]
  },
  {
   "attachments": {},
   "cell_type": "markdown",
   "metadata": {},
   "source": [
    "lets create a data validation class "
   ]
  },
  {
   "cell_type": "code",
   "execution_count": 8,
   "metadata": {},
   "outputs": [],
   "source": [
    "from textsummurizer.logging import logger"
   ]
  },
  {
   "cell_type": "code",
   "execution_count": 21,
   "metadata": {},
   "outputs": [],
   "source": [
    "class DataValidation:\n",
    "    def __init__(self, config: DataValidationConfig):\n",
    "        self.config = config\n",
    "\n",
    "    \n",
    "    def validate_all_files_exist(self) -> bool:\n",
    "\n",
    "        try:\n",
    "            validation_status = None\n",
    "\n",
    "            all_files = os.listdir(os.path.join(\"Text-summurizer-project\",\"aritfacts\", \"data_ingestion\", \"samsum_dataset\"))\n",
    "\n",
    "            for file in all_files:\n",
    "                if file not in self.config.ALL_REQUIRED_FILES:\n",
    "                    validation_status = False\n",
    "                    with open(self.config.STATUS_FILE, 'W') as f:\n",
    "                        f.write(f\"validation status: {validation_status}\")\n",
    "                else: \n",
    "                    validation_status = True\n",
    "                    with open(self.config.STATUS_FILE, 'W') as f:\n",
    "                        f.write(f\"validation status: {validation_status}\")\n",
    "                        \n",
    "            return validation_status\n",
    "        \n",
    "        except Exception as e:\n",
    "            raise e\n"
   ]
  },
  {
   "attachments": {},
   "cell_type": "markdown",
   "metadata": {},
   "source": [
    "Let us complete the pipeline"
   ]
  },
  {
   "cell_type": "code",
   "execution_count": 22,
   "metadata": {},
   "outputs": [
    {
     "name": "stdout",
     "output_type": "stream",
     "text": [
      "<class 'box.box.Box'>\n",
      "<class 'box.box.Box'>\n",
      "[2023-07-09 02:56:49,742: INFO: common: created directory at: artifacts]\n",
      "[2023-07-09 02:56:49,744: INFO: common: created directory at: artifacts/data_validation]\n",
      "c:\\Users\\DELL\\Documents\\summurizer\n"
     ]
    },
    {
     "ename": "FileNotFoundError",
     "evalue": "[WinError 3] The system cannot find the path specified: 'c:\\\\Users\\\\DELL\\\\Documents\\\\summurizer\\\\Text-summurizer-project\\\\aritfacts\\\\data_ingestion\\\\samsum_dataset'",
     "output_type": "error",
     "traceback": [
      "\u001b[1;31m---------------------------------------------------------------------------\u001b[0m",
      "\u001b[1;31mFileNotFoundError\u001b[0m                         Traceback (most recent call last)",
      "Cell \u001b[1;32mIn[22], line 7\u001b[0m\n\u001b[0;32m      5\u001b[0m     data_validation\u001b[39m.\u001b[39mvalidate_all_files_exist()\n\u001b[0;32m      6\u001b[0m \u001b[39mexcept\u001b[39;00m \u001b[39mException\u001b[39;00m \u001b[39mas\u001b[39;00m e:\n\u001b[1;32m----> 7\u001b[0m     \u001b[39mraise\u001b[39;00m e\n",
      "Cell \u001b[1;32mIn[22], line 5\u001b[0m\n\u001b[0;32m      3\u001b[0m     data_validation_config \u001b[39m=\u001b[39m config\u001b[39m.\u001b[39mget_data_validation_config()\n\u001b[0;32m      4\u001b[0m     data_validation \u001b[39m=\u001b[39m DataValidation(config\u001b[39m=\u001b[39mdata_validation_config)\n\u001b[1;32m----> 5\u001b[0m     data_validation\u001b[39m.\u001b[39;49mvalidate_all_files_exist()\n\u001b[0;32m      6\u001b[0m \u001b[39mexcept\u001b[39;00m \u001b[39mException\u001b[39;00m \u001b[39mas\u001b[39;00m e:\n\u001b[0;32m      7\u001b[0m     \u001b[39mraise\u001b[39;00m e\n",
      "Cell \u001b[1;32mIn[21], line 29\u001b[0m, in \u001b[0;36mDataValidation.validate_all_files_exist\u001b[1;34m(self)\u001b[0m\n\u001b[0;32m     26\u001b[0m     \u001b[39mreturn\u001b[39;00m validation_status\n\u001b[0;32m     28\u001b[0m \u001b[39mexcept\u001b[39;00m \u001b[39mException\u001b[39;00m \u001b[39mas\u001b[39;00m e:\n\u001b[1;32m---> 29\u001b[0m     \u001b[39mraise\u001b[39;00m e\n",
      "Cell \u001b[1;32mIn[21], line 15\u001b[0m, in \u001b[0;36mDataValidation.validate_all_files_exist\u001b[1;34m(self)\u001b[0m\n\u001b[0;32m     12\u001b[0m parent_directory \u001b[39m=\u001b[39m os\u001b[39m.\u001b[39mpath\u001b[39m.\u001b[39mdirname(current_directory)\n\u001b[0;32m     13\u001b[0m \u001b[39mprint\u001b[39m(parent_directory)\n\u001b[1;32m---> 15\u001b[0m all_files \u001b[39m=\u001b[39m os\u001b[39m.\u001b[39;49mlistdir(os\u001b[39m.\u001b[39;49mpath\u001b[39m.\u001b[39;49mjoin(parent_directory, \u001b[39m\"\u001b[39;49m\u001b[39mText-summurizer-project\u001b[39;49m\u001b[39m\"\u001b[39;49m ,\u001b[39m\"\u001b[39;49m\u001b[39maritfacts\u001b[39;49m\u001b[39m\"\u001b[39;49m, \u001b[39m\"\u001b[39;49m\u001b[39mdata_ingestion\u001b[39;49m\u001b[39m\"\u001b[39;49m, \u001b[39m\"\u001b[39;49m\u001b[39msamsum_dataset\u001b[39;49m\u001b[39m\"\u001b[39;49m))\n\u001b[0;32m     17\u001b[0m \u001b[39mfor\u001b[39;00m file \u001b[39min\u001b[39;00m all_files:\n\u001b[0;32m     18\u001b[0m     \u001b[39mif\u001b[39;00m file \u001b[39mnot\u001b[39;00m \u001b[39min\u001b[39;00m \u001b[39mself\u001b[39m\u001b[39m.\u001b[39mconfig\u001b[39m.\u001b[39mALL_REQUIRED_FILES:\n",
      "\u001b[1;31mFileNotFoundError\u001b[0m: [WinError 3] The system cannot find the path specified: 'c:\\\\Users\\\\DELL\\\\Documents\\\\summurizer\\\\Text-summurizer-project\\\\aritfacts\\\\data_ingestion\\\\samsum_dataset'"
     ]
    }
   ],
   "source": [
    "try:\n",
    "    config = ConfigurationManager()\n",
    "    data_validation_config = config.get_data_validation_config()\n",
    "    data_validation = DataValidation(config=data_validation_config)\n",
    "    data_validation.validate_all_files_exist()\n",
    "except Exception as e:\n",
    "    raise e"
   ]
  },
  {
   "attachments": {},
   "cell_type": "markdown",
   "metadata": {},
   "source": [
    "Lets creat a function to change directory for us"
   ]
  },
  {
   "attachments": {},
   "cell_type": "markdown",
   "metadata": {},
   "source": []
  },
  {
   "cell_type": "code",
   "execution_count": 19,
   "metadata": {},
   "outputs": [],
   "source": [
    "import os\n",
    "\n",
    "def change_working_directory(directory_name):\n",
    "    # Get the current working directory\n",
    "    current_directory = os.getcwd()\n",
    "\n",
    "    # Create the new path by inserting the variable directory_name\n",
    "    new_directory = os.path.join(current_directory, directory_name)\n",
    "\n",
    "    # Change the working directory\n",
    "    os.chdir(new_directory)\n",
    "\n",
    "    # Print the new working directory to verify the change\n",
    "    print(\"New working directory:\", os.getcwd())\n"
   ]
  },
  {
   "cell_type": "code",
   "execution_count": 25,
   "metadata": {},
   "outputs": [
    {
     "ename": "FileNotFoundError",
     "evalue": "[WinError 2] The system cannot find the file specified: 'c:\\\\Users\\\\DELL\\\\Documents\\\\summurizer\\\\summurizer'",
     "output_type": "error",
     "traceback": [
      "\u001b[1;31m---------------------------------------------------------------------------\u001b[0m",
      "\u001b[1;31mFileNotFoundError\u001b[0m                         Traceback (most recent call last)",
      "Cell \u001b[1;32mIn[25], line 1\u001b[0m\n\u001b[1;32m----> 1\u001b[0m change_working_directory(\u001b[39m\"\u001b[39;49m\u001b[39msummurizer\u001b[39;49m\u001b[39m\"\u001b[39;49m)\n",
      "Cell \u001b[1;32mIn[19], line 11\u001b[0m, in \u001b[0;36mchange_working_directory\u001b[1;34m(directory_name)\u001b[0m\n\u001b[0;32m      8\u001b[0m new_directory \u001b[39m=\u001b[39m os\u001b[39m.\u001b[39mpath\u001b[39m.\u001b[39mjoin(current_directory, directory_name)\n\u001b[0;32m     10\u001b[0m \u001b[39m# Change the working directory\u001b[39;00m\n\u001b[1;32m---> 11\u001b[0m os\u001b[39m.\u001b[39;49mchdir(new_directory)\n\u001b[0;32m     13\u001b[0m \u001b[39m# Print the new working directory to verify the change\u001b[39;00m\n\u001b[0;32m     14\u001b[0m \u001b[39mprint\u001b[39m(\u001b[39m\"\u001b[39m\u001b[39mNew working directory:\u001b[39m\u001b[39m\"\u001b[39m, os\u001b[39m.\u001b[39mgetcwd())\n",
      "\u001b[1;31mFileNotFoundError\u001b[0m: [WinError 2] The system cannot find the file specified: 'c:\\\\Users\\\\DELL\\\\Documents\\\\summurizer\\\\summurizer'"
     ]
    }
   ],
   "source": [
    "change_working_directory(\"summurizer\")"
   ]
  },
  {
   "cell_type": "code",
   "execution_count": 24,
   "metadata": {},
   "outputs": [
    {
     "name": "stdout",
     "output_type": "stream",
     "text": [
      "['data_ingestion', 'data_validation']\n"
     ]
    }
   ],
   "source": [
    "import os\n",
    "\n",
    "directory = r\"C:\\Users\\DELL\\Documents\\summurizer\\Text-summurizer-project\\artifacts\"\n",
    "files = os.listdir(directory)\n",
    "print(files)\n"
   ]
  },
  {
   "cell_type": "code",
   "execution_count": null,
   "metadata": {},
   "outputs": [],
   "source": []
  }
 ],
 "metadata": {
  "kernelspec": {
   "display_name": "textS",
   "language": "python",
   "name": "python3"
  },
  "language_info": {
   "codemirror_mode": {
    "name": "ipython",
    "version": 3
   },
   "file_extension": ".py",
   "mimetype": "text/x-python",
   "name": "python",
   "nbconvert_exporter": "python",
   "pygments_lexer": "ipython3",
   "version": "3.8.16"
  },
  "orig_nbformat": 4
 },
 "nbformat": 4,
 "nbformat_minor": 2
}
